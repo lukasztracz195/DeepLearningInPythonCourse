{
  "nbformat": 4,
  "nbformat_minor": 0,
  "metadata": {
    "colab": {
      "name": "MNIST_nn.ipynb",
      "provenance": [],
      "collapsed_sections": [],
      "authorship_tag": "ABX9TyNPecvkqUm5imcxdlmU18/h",
      "include_colab_link": true
    },
    "kernelspec": {
      "name": "python3",
      "display_name": "Python 3"
    },
    "accelerator": "TPU"
  },
  "cells": [
    {
      "cell_type": "markdown",
      "metadata": {
        "id": "view-in-github",
        "colab_type": "text"
      },
      "source": [
        "<a href=\"https://colab.research.google.com/github/lukasztracz195/DeepLearningInPythonCourse/blob/main/MNIST_nn.ipynb\" target=\"_parent\"><img src=\"https://colab.research.google.com/assets/colab-badge.svg\" alt=\"Open In Colab\"/></a>"
      ]
    },
    {
      "cell_type": "markdown",
      "metadata": {
        "id": "8KkvJM7zPgTR"
      },
      "source": [
        ""
      ]
    },
    {
      "cell_type": "markdown",
      "metadata": {
        "id": "OcMuouOiPqlc"
      },
      "source": [
        "## Sieć Neuronowa - Perceptron Wielowarstwowy - Multiplayer Perceptron"
      ]
    },
    {
      "cell_type": "markdown",
      "metadata": {
        "id": "buodj7hiPuCV"
      },
      "source": [
        "####Import bibliotek"
      ]
    },
    {
      "cell_type": "code",
      "metadata": {
        "id": "y7JOp6hRPcaF"
      },
      "source": [
        "import keras\n",
        "from keras.datasets import mnist\n",
        "from keras.models import Sequential\n",
        "from keras.layers import Dense\n",
        "from keras.optimizers import RMSprop"
      ],
      "execution_count": 1,
      "outputs": []
    },
    {
      "cell_type": "markdown",
      "metadata": {
        "id": "aTry1eJwRaSB"
      },
      "source": [
        "####Załadowanie danych"
      ]
    },
    {
      "cell_type": "code",
      "metadata": {
        "colab": {
          "base_uri": "https://localhost:8080/"
        },
        "id": "Rj-VR6nNPnUa",
        "outputId": "7e736bd6-e633-47ac-a1a5-487893f859c8"
      },
      "source": [
        "(X_train, y_train), (X_test, y_test) = mnist.load_data()"
      ],
      "execution_count": 2,
      "outputs": [
        {
          "output_type": "stream",
          "text": [
            "Downloading data from https://storage.googleapis.com/tensorflow/tf-keras-datasets/mnist.npz\n",
            "11493376/11490434 [==============================] - 0s 0us/step\n"
          ],
          "name": "stdout"
        }
      ]
    },
    {
      "cell_type": "code",
      "metadata": {
        "id": "QJ6UgxOhRBGJ"
      },
      "source": [
        ""
      ],
      "execution_count": 2,
      "outputs": []
    },
    {
      "cell_type": "markdown",
      "metadata": {
        "id": "fc44qmS8RdOV"
      },
      "source": [
        "#####Eksloracja danych"
      ]
    },
    {
      "cell_type": "code",
      "metadata": {
        "colab": {
          "base_uri": "https://localhost:8080/"
        },
        "id": "0-MsFB-9RLyr",
        "outputId": "0980c509-b697-488f-9e93-634ed023362c"
      },
      "source": [
        "print(X_train.shape)\n",
        "print(X_test.shape)\n",
        "print(y_train.shape)\n",
        "print(y_test.shape)\n",
        "\n",
        "print('Liczba danych treningowych: ', X_train.shape[0])\n",
        "print('Liczzba danych testowych: ',X_test.shape[0])\n",
        "print(\"Rozmiar pojedynczego obrazka: \", X_train[0].shape)"
      ],
      "execution_count": 3,
      "outputs": [
        {
          "output_type": "stream",
          "text": [
            "(60000, 28, 28)\n",
            "(10000, 28, 28)\n",
            "(60000,)\n",
            "(10000,)\n",
            "Liczba danych treningowych:  60000\n",
            "Liczzba danych testowych:  10000\n",
            "Rozmiar pojedynczego obrazka:  (28, 28)\n"
          ],
          "name": "stdout"
        }
      ]
    },
    {
      "cell_type": "code",
      "metadata": {
        "colab": {
          "base_uri": "https://localhost:8080/",
          "height": 266
        },
        "id": "E1QCv5h7SukV",
        "outputId": "a484b041-17ff-4985-a432-fc9c7d8ab92e"
      },
      "source": [
        "import matplotlib.pyplot as plt\n",
        "plt.imshow(X_train[0], cmap='Greys')\n",
        "plt.axis('off')"
      ],
      "execution_count": 4,
      "outputs": [
        {
          "output_type": "execute_result",
          "data": {
            "text/plain": [
              "(-0.5, 27.5, 27.5, -0.5)"
            ]
          },
          "metadata": {
            "tags": []
          },
          "execution_count": 4
        },
        {
          "output_type": "display_data",
          "data": {
            "image/png": "[encoded data removed]",
            "text/plain": [
              "<Figure size 432x288 with 1 Axes>"
            ]
          },
          "metadata": {
            "tags": [],
            "needs_background": "light"
          }
        }
      ]
    },
    {
      "cell_type": "markdown",
      "metadata": {
        "id": "aG7Lu7suTZ4b"
      },
      "source": [
        "### Wyświetlenie kilku obrazków"
      ]
    },
    {
      "cell_type": "code",
      "metadata": {
        "colab": {
          "base_uri": "https://localhost:8080/",
          "height": 78
        },
        "id": "FVsvku_LTfBl",
        "outputId": "fc6104b5-341a-4a3a-b972-69eaa1ac05c9"
      },
      "source": [
        "plt.figure(figsize=(10,10))\n",
        "for i in range(1, 11):\n",
        "  plt.subplot(1, 10, i)\n",
        "  plt.axis('off')\n",
        "  plt.imshow(X_train[i], cmap='Greys')\n",
        "plt.show()"
      ],
      "execution_count": 5,
      "outputs": [
        {
          "output_type": "display_data",
          "data": {
            "image/png": "[encoded data removed]",
            "text/plain": [
              "<Figure size 720x720 with 10 Axes>"
            ]
          },
          "metadata": {
            "tags": [],
            "needs_background": "light"
          }
        }
      ]
    },
    {
      "cell_type": "markdown",
      "metadata": {
        "id": "sFm2jtVSUOKY"
      },
      "source": [
        "###Etykiety\n"
      ]
    },
    {
      "cell_type": "code",
      "metadata": {
        "colab": {
          "base_uri": "https://localhost:8080/"
        },
        "id": "ATiIwIcKUQv9",
        "outputId": "c3698fee-af6e-4132-eb88-0f1e552e172b"
      },
      "source": [
        "X_train.shape"
      ],
      "execution_count": 6,
      "outputs": [
        {
          "output_type": "execute_result",
          "data": {
            "text/plain": [
              "(60000, 28, 28)"
            ]
          },
          "metadata": {
            "tags": []
          },
          "execution_count": 6
        }
      ]
    },
    {
      "cell_type": "markdown",
      "metadata": {
        "id": "K31-7irLVcDP"
      },
      "source": [
        "### Przygotowanie danych"
      ]
    },
    {
      "cell_type": "code",
      "metadata": {
        "id": "-74wB7yIUvYP"
      },
      "source": [
        "X_train = X_train.reshape(60000, 28*28)\n",
        "X_test = X_test.reshape(10000, 28*28)\n",
        "X_train = X_train.astype('float32')\n",
        "X_test = X_test.astype('float32')\n",
        "\n",
        "X_train = X_train / 255\n",
        "X_test = X_test / 255"
      ],
      "execution_count": 7,
      "outputs": []
    },
    {
      "cell_type": "code",
      "metadata": {
        "colab": {
          "base_uri": "https://localhost:8080/"
        },
        "id": "kV3izSuvVmho",
        "outputId": "31a289d4-27f0-470d-c0b1-27661f9e5558"
      },
      "source": [
        "y_train = keras.utils.to_categorical(y_train, num_classes=10)\n",
        "y_test = keras.utils.to_categorical(y_test, num_classes=10)\n",
        "y_train[1]"
      ],
      "execution_count": 8,
      "outputs": [
        {
          "output_type": "execute_result",
          "data": {
            "text/plain": [
              "array([1., 0., 0., 0., 0., 0., 0., 0., 0., 0.], dtype=float32)"
            ]
          },
          "metadata": {
            "tags": []
          },
          "execution_count": 8
        }
      ]
    },
    {
      "cell_type": "markdown",
      "metadata": {
        "id": "hQ9KdA4FWoQu"
      },
      "source": [
        "### Budowa modelu"
      ]
    },
    {
      "cell_type": "code",
      "metadata": {
        "colab": {
          "base_uri": "https://localhost:8080/"
        },
        "id": "ARzYzDN6WJNE",
        "outputId": "faa3d5d4-6fd6-4d33-aa6f-838cfb4e8b94"
      },
      "source": [
        "model = Sequential()\n",
        "model.add(Dense(units=512, activation='relu', input_shape=(28*28,)))\n",
        "model.add(Dense(units=512, activation='relu'))\n",
        "model.add(Dense(units=10, activation='softmax'))\n",
        "model.summary()"
      ],
      "execution_count": 9,
      "outputs": [
        {
          "output_type": "stream",
          "text": [
            "Model: \"sequential\"\n",
            "_________________________________________________________________\n",
            "Layer (type)                 Output Shape              Param #   \n",
            "=================================================================\n",
            "dense (Dense)                (None, 512)               401920    \n",
            "_________________________________________________________________\n",
            "dense_1 (Dense)              (None, 512)               262656    \n",
            "_________________________________________________________________\n",
            "dense_2 (Dense)              (None, 10)                5130      \n",
            "=================================================================\n",
            "Total params: 669,706\n",
            "Trainable params: 669,706\n",
            "Non-trainable params: 0\n",
            "_________________________________________________________________\n"
          ],
          "name": "stdout"
        }
      ]
    },
    {
      "cell_type": "code",
      "metadata": {
        "id": "WYA4HhNBXVfc"
      },
      "source": [
        "model.compile(optimizer=RMSprop(), loss='categorical_crossentropy', metrics=['accuracy'])"
      ],
      "execution_count": 10,
      "outputs": []
    },
    {
      "cell_type": "markdown",
      "metadata": {
        "id": "9Ji5-iZZYfEp"
      },
      "source": [
        "### Trenowanie modelu"
      ]
    },
    {
      "cell_type": "code",
      "metadata": {
        "colab": {
          "base_uri": "https://localhost:8080/"
        },
        "id": "XXNSJN3-Yb3a",
        "outputId": "5f36d6ca-95c1-4459-84b1-7f7678cefbbf"
      },
      "source": [
        "history = model.fit(X_train, y_train, batch_size=128, epochs=20,validation_data=(X_test, y_test))"
      ],
      "execution_count": 11,
      "outputs": [
        {
          "output_type": "stream",
          "text": [
            "Epoch 1/20\n",
            "469/469 [==============================] - 8s 17ms/step - loss: 0.2231 - accuracy: 0.9306 - val_loss: 0.1149 - val_accuracy: 0.9644\n",
            "Epoch 2/20\n",
            "469/469 [==============================] - 8s 17ms/step - loss: 0.0830 - accuracy: 0.9743 - val_loss: 0.0800 - val_accuracy: 0.9761\n",
            "Epoch 3/20\n",
            "469/469 [==============================] - 8s 17ms/step - loss: 0.0544 - accuracy: 0.9841 - val_loss: 0.0697 - val_accuracy: 0.9799\n",
            "Epoch 4/20\n",
            "469/469 [==============================] - 8s 17ms/step - loss: 0.0383 - accuracy: 0.9880 - val_loss: 0.0694 - val_accuracy: 0.9824\n",
            "Epoch 5/20\n",
            "469/469 [==============================] - 8s 17ms/step - loss: 0.0295 - accuracy: 0.9909 - val_loss: 0.0976 - val_accuracy: 0.9743\n",
            "Epoch 6/20\n",
            "469/469 [==============================] - 8s 17ms/step - loss: 0.0223 - accuracy: 0.9930 - val_loss: 0.1059 - val_accuracy: 0.9783\n",
            "Epoch 7/20\n",
            "469/469 [==============================] - 8s 17ms/step - loss: 0.0187 - accuracy: 0.9943 - val_loss: 0.1241 - val_accuracy: 0.9766\n",
            "Epoch 8/20\n",
            "469/469 [==============================] - 8s 17ms/step - loss: 0.0152 - accuracy: 0.9952 - val_loss: 0.1342 - val_accuracy: 0.9776\n",
            "Epoch 9/20\n",
            "469/469 [==============================] - 8s 16ms/step - loss: 0.0125 - accuracy: 0.9960 - val_loss: 0.1158 - val_accuracy: 0.9796\n",
            "Epoch 10/20\n",
            "469/469 [==============================] - 8s 16ms/step - loss: 0.0110 - accuracy: 0.9967 - val_loss: 0.1230 - val_accuracy: 0.9812\n",
            "Epoch 11/20\n",
            "469/469 [==============================] - 8s 16ms/step - loss: 0.0106 - accuracy: 0.9971 - val_loss: 0.1131 - val_accuracy: 0.9830\n",
            "Epoch 12/20\n",
            "469/469 [==============================] - 8s 17ms/step - loss: 0.0088 - accuracy: 0.9973 - val_loss: 0.1370 - val_accuracy: 0.9813\n",
            "Epoch 13/20\n",
            "469/469 [==============================] - 8s 16ms/step - loss: 0.0080 - accuracy: 0.9977 - val_loss: 0.1357 - val_accuracy: 0.9810\n",
            "Epoch 14/20\n",
            "469/469 [==============================] - 8s 16ms/step - loss: 0.0081 - accuracy: 0.9977 - val_loss: 0.1388 - val_accuracy: 0.9813\n",
            "Epoch 15/20\n",
            "469/469 [==============================] - 8s 17ms/step - loss: 0.0063 - accuracy: 0.9981 - val_loss: 0.1651 - val_accuracy: 0.9816\n",
            "Epoch 16/20\n",
            "469/469 [==============================] - 8s 17ms/step - loss: 0.0070 - accuracy: 0.9981 - val_loss: 0.1922 - val_accuracy: 0.9781\n",
            "Epoch 17/20\n",
            "469/469 [==============================] - 8s 17ms/step - loss: 0.0069 - accuracy: 0.9983 - val_loss: 0.1512 - val_accuracy: 0.9830\n",
            "Epoch 18/20\n",
            "469/469 [==============================] - 8s 16ms/step - loss: 0.0068 - accuracy: 0.9981 - val_loss: 0.1599 - val_accuracy: 0.9815\n",
            "Epoch 19/20\n",
            "469/469 [==============================] - 8s 17ms/step - loss: 0.0051 - accuracy: 0.9987 - val_loss: 0.1634 - val_accuracy: 0.9829\n",
            "Epoch 20/20\n",
            "469/469 [==============================] - 8s 16ms/step - loss: 0.0047 - accuracy: 0.9987 - val_loss: 0.2414 - val_accuracy: 0.9787\n"
          ],
          "name": "stdout"
        }
      ]
    },
    {
      "cell_type": "code",
      "metadata": {
        "colab": {
          "base_uri": "https://localhost:8080/"
        },
        "id": "WzEeOtJ3Ym0v",
        "outputId": "fcf295a2-1c9d-4c1c-a2aa-3d6b27a987e4"
      },
      "source": [
        "model.evaluate(X_test, y_test)"
      ],
      "execution_count": 12,
      "outputs": [
        {
          "output_type": "stream",
          "text": [
            "313/313 [==============================] - 1s 3ms/step - loss: 0.2414 - accuracy: 0.9787\n"
          ],
          "name": "stdout"
        },
        {
          "output_type": "execute_result",
          "data": {
            "text/plain": [
              "[0.24142040312290192, 0.9786999821662903]"
            ]
          },
          "metadata": {
            "tags": []
          },
          "execution_count": 12
        }
      ]
    },
    {
      "cell_type": "markdown",
      "metadata": {
        "id": "SG3dpugpagcP"
      },
      "source": [
        "### Wykres dokładności i straty"
      ]
    },
    {
      "cell_type": "code",
      "metadata": {
        "id": "a6ISdO4PaEFC"
      },
      "source": [
        "def make_accuracy_plot(history):\n",
        "  \"\"\"\n",
        "  Funckja zwraca wykres dokładności (accuracy) modelu na zbiorze treningowym i walidacyjnym.\n",
        "  \"\"\"\n",
        "\n",
        "  import matplotlib.pyplot as plt\n",
        "  import seaborn as sns\n",
        "  sns.set()\n",
        "  acc, val_acc = history.history['accuracy'], history.history['val_accuracy']\n",
        "  epochs = range(1, len(acc)+1)\n",
        "\n",
        "  plt.figure(figsize=(10,8))\n",
        "  plt.plot(epochs, acc, label='Dokladność trenowania', marker='o')\n",
        "  plt.plot(epochs, val_acc, label='Dokladność walidacji', marker='o')\n",
        "  plt.legend()\n",
        "  plt.title('Dokładność trenowania i walidacji')\n",
        "  plt.xlabel('Epoki')\n",
        "  plt.ylabel('Dokładność')\n",
        "  plt.show()"
      ],
      "execution_count": 35,
      "outputs": []
    },
    {
      "cell_type": "code",
      "metadata": {
        "id": "gN49IhiRl6tz"
      },
      "source": [
        "def make_loss_plot(history):\n",
        "  \"\"\"\n",
        "  Funkjca zwraca wykres straty (loss) modelu na zbiorze treningowym\n",
        "  i walidacyjnym\n",
        "  \"\"\"\n",
        "\n",
        "  import matplotlib.pyplot as plt\n",
        "  import seaborn as sns\n",
        "  sns.set()\n",
        "  loss, val_loss = history.history['loss'], history.history['val_loss']\n",
        "  epochs = range(1, len(loss)+ 1)\n",
        "\n",
        "  plt.figure(figsize = (10,8))\n",
        "  plt.plot(epochs, loss, label='Strata trenowania', marker='o')\n",
        "  plt.plot(epochs, val_loss, label=\"Strata walidacji\", marker='o')\n",
        "  plt.legend()\n",
        "  plt.title('Strata trenowania i walidacji')\n",
        "  plt.xlabel('Epoki')\n",
        "  plt.ylabel('Strata')\n",
        "  plt.show()"
      ],
      "execution_count": 36,
      "outputs": []
    },
    {
      "cell_type": "code",
      "metadata": {
        "colab": {
          "base_uri": "https://localhost:8080/",
          "height": 518
        },
        "id": "kqdVzej_yjpQ",
        "outputId": "febcb723-eca8-4cdd-afdc-e2dc6fd37558"
      },
      "source": [
        "make_accuracy_plot(history)"
      ],
      "execution_count": 37,
      "outputs": [
        {
          "output_type": "display_data",
          "data": {
            "image/png": "[encoded data removed]",
            "text/plain": [
              "<Figure size 720x576 with 1 Axes>"
            ]
          },
          "metadata": {
            "tags": []
          }
        }
      ]
    },
    {
      "cell_type": "code",
      "metadata": {
        "colab": {
          "base_uri": "https://localhost:8080/",
          "height": 518
        },
        "id": "bcO2TUpMzO4B",
        "outputId": "daffeb9d-8a8d-409b-fc8a-b7436d500f8b"
      },
      "source": [
        "make_loss_plot(history)"
      ],
      "execution_count": 38,
      "outputs": [
        {
          "output_type": "display_data",
          "data": {
            "image/png": "[encoded data removed]",
            "text/plain": [
              "<Figure size 720x576 with 1 Axes>"
            ]
          },
          "metadata": {
            "tags": []
          }
        }
      ]
    },
    {
      "cell_type": "markdown",
      "metadata": {
        "id": "BSa9kdgq0wDJ"
      },
      "source": [
        "### Nap odstawie tych dwóch wykresów jestśmy w stanie zlokalizować zjawisko overfitingu na drugim wykresie jest to epoka od której funkcja prezentująca nasza stratę walidacji zaczyna rosnąć a nie maleć.\n",
        "### Z powyższych wykresów wynika że powinniśmy przerwać uczenie się sieci już po 5-6 epokach"
      ]
    },
    {
      "cell_type": "code",
      "metadata": {
        "id": "wumZUBsqzRWb"
      },
      "source": [
        ""
      ],
      "execution_count": 38,
      "outputs": []
    }
  ]
}