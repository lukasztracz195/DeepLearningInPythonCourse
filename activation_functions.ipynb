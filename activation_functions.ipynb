{
  "nbformat": 4,
  "nbformat_minor": 0,
  "metadata": {
    "colab": {
      "name": "activation_functions.ipynb",
      "provenance": [],
      "collapsed_sections": [],
      "authorship_tag": "ABX9TyOyrrcVWyGQKaFWCY6vlmhd",
      "include_colab_link": true
    },
    "kernelspec": {
      "name": "python3",
      "display_name": "Python 3"
    }
  },
  "cells": [
    {
      "cell_type": "markdown",
      "metadata": {
        "id": "view-in-github",
        "colab_type": "text"
      },
      "source": [
        "<a href=\"https://colab.research.google.com/github/lukasztracz195/ImplementationOfActivationFunction/blob/main/activation_functions.ipynb\" target=\"_parent\"><img src=\"https://colab.research.google.com/assets/colab-badge.svg\" alt=\"Open In Colab\"/></a>"
      ]
    },
    {
      "cell_type": "markdown",
      "metadata": {
        "id": "Kmx0hBSChy7I"
      },
      "source": [
        "## Funkcje Aktywacji\n",
        "### ReLU Function\n",
        "$f(x) = max(0,x)$"
      ]
    },
    {
      "cell_type": "code",
      "metadata": {
        "id": "qVSlqbzngBRc"
      },
      "source": [
        "import numpy as np\n",
        "import matplotlib.pyplot as plt\n",
        "import seaborn as sns\n",
        "import pandas as pd\n",
        "sns.set()"
      ],
      "execution_count": 14,
      "outputs": []
    },
    {
      "cell_type": "code",
      "metadata": {
        "id": "rM3-jT6biVEW"
      },
      "source": [
        "def max_relu(x):\n",
        "  return max(x,0)"
      ],
      "execution_count": 2,
      "outputs": []
    },
    {
      "cell_type": "code",
      "metadata": {
        "colab": {
          "base_uri": "https://localhost:8080/"
        },
        "id": "rw8ljyYAinKK",
        "outputId": "99d34dfb-549f-461b-a26b-3f05323f97ed"
      },
      "source": [
        "for i in [ -10, -5, 0, 5, 10]:\n",
        "  print(max_relu(i))"
      ],
      "execution_count": 3,
      "outputs": [
        {
          "output_type": "stream",
          "text": [
            "0\n",
            "0\n",
            "0\n",
            "5\n",
            "10\n"
          ],
          "name": "stdout"
        }
      ]
    },
    {
      "cell_type": "code",
      "metadata": {
        "colab": {
          "base_uri": "https://localhost:8080/",
          "height": 321
        },
        "id": "ui5ijKSkiuKO",
        "outputId": "3db8ae75-aae5-4695-b354-9e9be4cae01c"
      },
      "source": [
        "data = np.arange(-5,5,0.1)\n",
        "max_relu_data = [max_relu(x) for x in data]\n",
        "plt.plot(data, max_relu_data)\n",
        "plt.title(\"ReLU Function\")\n",
        "\"\"\"\n",
        "Funkcji ReLU używamy na początku naszej sieci neuronowej.\n",
        "Jej zadaniem jest zapewnienie że wszystkie wartości ujemne z naszych danych\n",
        "nie będa dalej rozpatrywane przez naszą sieć\n",
        "\"\"\""
      ],
      "execution_count": 8,
      "outputs": [
        {
          "output_type": "execute_result",
          "data": {
            "application/vnd.google.colaboratory.intrinsic+json": {
              "type": "string"
            },
            "text/plain": [
              "'\\nFunkcji ReLU używamy na początku naszej sieci neuronowej.\\nJej zadaniem jest zapewnienie że wszystkie wartości ujemne z naszych danych\\nnie będa dalej rozpatrywane przez naszą sieć\\n'"
            ]
          },
          "metadata": {
            "tags": []
          },
          "execution_count": 8
        },
        {
          "output_type": "display_data",
          "data": {
            "image/png": "[encoded data removed]",
            "text/plain": [
              "<Figure size 432x288 with 1 Axes>"
            ]
          },
          "metadata": {
            "tags": [],
            "needs_background": "light"
          }
        }
      ]
    },
    {
      "cell_type": "markdown",
      "metadata": {
        "id": "njlBI3-9j4ao"
      },
      "source": [
        "## Sigmoid Function\n",
        "### $f(x) = \\frac{1}{1+e^{-x}}$\n"
      ]
    },
    {
      "cell_type": "code",
      "metadata": {
        "id": "A5T00ShSkKvr"
      },
      "source": [
        "def sigmoid(x):\n",
        "  return 1.0 / (1.0+ np.exp(-x))"
      ],
      "execution_count": 9,
      "outputs": []
    },
    {
      "cell_type": "code",
      "metadata": {
        "colab": {
          "base_uri": "https://localhost:8080/"
        },
        "id": "20MF6ogCkg7h",
        "outputId": "7062140d-8e97-4d50-e189-ec0fa70c1f7f"
      },
      "source": [
        "for i in [-5, -3, -1 , 0, -1, 3, 5]:\n",
        "  print(sigmoid(i))"
      ],
      "execution_count": 10,
      "outputs": [
        {
          "output_type": "stream",
          "text": [
            "0.0066928509242848554\n",
            "0.04742587317756678\n",
            "0.2689414213699951\n",
            "0.5\n",
            "0.2689414213699951\n",
            "0.9525741268224334\n",
            "0.9933071490757153\n"
          ],
          "name": "stdout"
        }
      ]
    },
    {
      "cell_type": "code",
      "metadata": {
        "colab": {
          "base_uri": "https://localhost:8080/",
          "height": 302
        },
        "id": "RSs_qfaukxuZ",
        "outputId": "ce752406-8b11-4aac-e8cc-2cb84528be02"
      },
      "source": [
        "\"\"\"\n",
        "Funckja ta jest wykorzystywana na końcu sieci neuronowych by\n",
        "zapewnić nam wartości prawdopodobieństwa z prdziału [0,1]\n",
        "\"\"\"\n",
        "sigmoid_data = [sigmoid(x) for x in data]\n",
        "plt.plot(data, sigmoid_data)\n",
        "plt.title(\"Sigmoid Function\")"
      ],
      "execution_count": 12,
      "outputs": [
        {
          "output_type": "execute_result",
          "data": {
            "text/plain": [
              "Text(0.5, 1.0, 'Sigmoid Function')"
            ]
          },
          "metadata": {
            "tags": []
          },
          "execution_count": 12
        },
        {
          "output_type": "display_data",
          "data": {
            "image/png": "[encoded data removed]",
            "text/plain": [
              "<Figure size 432x288 with 1 Axes>"
            ]
          },
          "metadata": {
            "tags": [],
            "needs_background": "light"
          }
        }
      ]
    },
    {
      "cell_type": "code",
      "metadata": {
        "id": "4Ds4j34pletX"
      },
      "source": [
        ""
      ],
      "execution_count": null,
      "outputs": []
    },
    {
      "cell_type": "markdown",
      "metadata": {
        "id": "4ighON_ylhHa"
      },
      "source": [
        "###Softmax Function\n",
        "$ S(y_i) = \\frac{e^{y_i}}{\\sum_{j=1}^ie^{y_j}}$\n",
        "\n",
        "#####Rezultatem funckji Softmax są prawdopodobieństwa przynależności do poszczególnych class\n",
        "\n",
        "#####Zazwyczaj jest tak że ta funckja wskasuje bardzo silne powinowactwo do jednej z tych class natomiast reszta jest bliska zeru"
      ]
    },
    {
      "cell_type": "code",
      "metadata": {
        "colab": {
          "base_uri": "https://localhost:8080/"
        },
        "id": "56enWthj98QB",
        "outputId": "a4a08991-e1ec-448f-9bdd-e123a2e36948"
      },
      "source": [
        "data = np.random.randn(3,5)\n",
        "data"
      ],
      "execution_count": 13,
      "outputs": [
        {
          "output_type": "execute_result",
          "data": {
            "text/plain": [
              "array([[ 2.23135271,  1.29854642,  1.41497157,  0.29148202, -0.74129224],\n",
              "       [-2.64077646, -1.90560861,  0.70606899,  0.49144072,  0.86709339],\n",
              "       [-0.53669068, -0.40896379, -0.574232  ,  1.54603917,  0.09032134]])"
            ]
          },
          "metadata": {
            "tags": []
          },
          "execution_count": 13
        }
      ]
    },
    {
      "cell_type": "code",
      "metadata": {
        "colab": {
          "base_uri": "https://localhost:8080/",
          "height": 143
        },
        "id": "2F7YfgDx-CSI",
        "outputId": "d96a4734-7f39-48fc-cb12-2cadb0ee2543"
      },
      "source": [
        "df = pd.DataFrame(data)\n",
        "df"
      ],
      "execution_count": 15,
      "outputs": [
        {
          "output_type": "execute_result",
          "data": {
            "text/html": [
              "<div>\n",
              "<style scoped>\n",
              "    .dataframe tbody tr th:only-of-type {\n",
              "        vertical-align: middle;\n",
              "    }\n",
              "\n",
              "    .dataframe tbody tr th {\n",
              "        vertical-align: top;\n",
              "    }\n",
              "\n",
              "    .dataframe thead th {\n",
              "        text-align: right;\n",
              "    }\n",
              "</style>\n",
              "<table border=\"1\" class=\"dataframe\">\n",
              "  <thead>\n",
              "    <tr style=\"text-align: right;\">\n",
              "      <th></th>\n",
              "      <th>0</th>\n",
              "      <th>1</th>\n",
              "      <th>2</th>\n",
              "      <th>3</th>\n",
              "      <th>4</th>\n",
              "    </tr>\n",
              "  </thead>\n",
              "  <tbody>\n",
              "    <tr>\n",
              "      <th>0</th>\n",
              "      <td>2.231353</td>\n",
              "      <td>1.298546</td>\n",
              "      <td>1.414972</td>\n",
              "      <td>0.291482</td>\n",
              "      <td>-0.741292</td>\n",
              "    </tr>\n",
              "    <tr>\n",
              "      <th>1</th>\n",
              "      <td>-2.640776</td>\n",
              "      <td>-1.905609</td>\n",
              "      <td>0.706069</td>\n",
              "      <td>0.491441</td>\n",
              "      <td>0.867093</td>\n",
              "    </tr>\n",
              "    <tr>\n",
              "      <th>2</th>\n",
              "      <td>-0.536691</td>\n",
              "      <td>-0.408964</td>\n",
              "      <td>-0.574232</td>\n",
              "      <td>1.546039</td>\n",
              "      <td>0.090321</td>\n",
              "    </tr>\n",
              "  </tbody>\n",
              "</table>\n",
              "</div>"
            ],
            "text/plain": [
              "          0         1         2         3         4\n",
              "0  2.231353  1.298546  1.414972  0.291482 -0.741292\n",
              "1 -2.640776 -1.905609  0.706069  0.491441  0.867093\n",
              "2 -0.536691 -0.408964 -0.574232  1.546039  0.090321"
            ]
          },
          "metadata": {
            "tags": []
          },
          "execution_count": 15
        }
      ]
    },
    {
      "cell_type": "code",
      "metadata": {
        "id": "fEEgoL_4-rjk"
      },
      "source": [
        "res = np.exp(df)/(np.sum(np.exp(df), axis=0))  #softmax"
      ],
      "execution_count": 19,
      "outputs": []
    },
    {
      "cell_type": "code",
      "metadata": {
        "colab": {
          "base_uri": "https://localhost:8080/"
        },
        "id": "9TA50i5i-uvZ",
        "outputId": "e51182e3-fa96-4bfa-e8c9-b115d1ee122c"
      },
      "source": [
        "np.sum(res, axis=0)"
      ],
      "execution_count": 20,
      "outputs": [
        {
          "output_type": "execute_result",
          "data": {
            "text/plain": [
              "0    1.0\n",
              "1    1.0\n",
              "2    1.0\n",
              "3    1.0\n",
              "4    1.0\n",
              "dtype: float64"
            ]
          },
          "metadata": {
            "tags": []
          },
          "execution_count": 20
        }
      ]
    },
    {
      "cell_type": "markdown",
      "metadata": {
        "id": "kP7s79CXANmR"
      },
      "source": [
        "##Tanh Function\n",
        "$tanh(x)=\\frac{e^x - e^{-x}}{e^x+e^{-x}}$\n",
        "\n",
        "##### Funckja tanh może być użyta wtedy gdy sigmoid nie daje rady"
      ]
    },
    {
      "cell_type": "code",
      "metadata": {
        "id": "IH5hrCdP_QsA"
      },
      "source": [
        "def tanh(x):\n",
        "  return((np.exp(x)-np.exp(-x))/ (np.exp(x) + np.exp(-x)))"
      ],
      "execution_count": 23,
      "outputs": []
    },
    {
      "cell_type": "code",
      "metadata": {
        "colab": {
          "base_uri": "https://localhost:8080/"
        },
        "id": "aa54K2iOA8kM",
        "outputId": "e8080e41-44ff-4e6f-fdfd-0d3435a2062e"
      },
      "source": [
        "\n",
        "for i in [-2, -1, 0, 1, 2]:\n",
        "  print(tanh(i))"
      ],
      "execution_count": 24,
      "outputs": [
        {
          "output_type": "stream",
          "text": [
            "-0.964027580075817\n",
            "-0.7615941559557649\n",
            "0.0\n",
            "0.7615941559557649\n",
            "0.964027580075817\n"
          ],
          "name": "stdout"
        }
      ]
    },
    {
      "cell_type": "code",
      "metadata": {
        "colab": {
          "base_uri": "https://localhost:8080/",
          "height": 302
        },
        "id": "HvTn_5PJBCFn",
        "outputId": "3b8c77c7-8f73-49b9-f8f5-50103a7e7375"
      },
      "source": [
        "data = np.arange(-5,5,0.1)\n",
        "tanh_data = [tanh(x) for x in data]\n",
        "plt.plot(data,tanh_data )\n",
        "plt.title(\"Tanh Function\")"
      ],
      "execution_count": 25,
      "outputs": [
        {
          "output_type": "execute_result",
          "data": {
            "text/plain": [
              "Text(0.5, 1.0, 'Tanh Function')"
            ]
          },
          "metadata": {
            "tags": []
          },
          "execution_count": 25
        },
        {
          "output_type": "display_data",
          "data": {
            "image/png": "[encoded data removed]",
            "text/plain": [
              "<Figure size 432x288 with 1 Axes>"
            ]
          },
          "metadata": {
            "tags": []
          }
        }
      ]
    },
    {
      "cell_type": "code",
      "metadata": {
        "id": "qdssetJABec_"
      },
      "source": [
        "\n"
      ],
      "execution_count": null,
      "outputs": []
    }
  ]
}