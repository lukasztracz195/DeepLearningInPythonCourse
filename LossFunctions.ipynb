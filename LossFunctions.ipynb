{
  "nbformat": 4,
  "nbformat_minor": 0,
  "metadata": {
    "colab": {
      "name": "LossFunctions",
      "provenance": [],
      "authorship_tag": "ABX9TyOI+YoPO9THKfhqzVirK8Qx",
      "include_colab_link": true
    },
    "kernelspec": {
      "name": "python3",
      "display_name": "Python 3"
    }
  },
  "cells": [
    {
      "cell_type": "markdown",
      "metadata": {
        "id": "view-in-github",
        "colab_type": "text"
      },
      "source": [
        "<a href=\"https://colab.research.google.com/github/lukasztracz195/DeepLearningInPythonCourse/blob/main/LossFunctions.ipynb\" target=\"_parent\"><img src=\"https://colab.research.google.com/assets/colab-badge.svg\" alt=\"Open In Colab\"/></a>"
      ]
    },
    {
      "cell_type": "code",
      "metadata": {
        "id": "zSVxMOPrC5sX"
      },
      "source": [
        "import numpy as np\n",
        "import matplotlib.pyplot as plt\n",
        "import seaborn as sns\n",
        "import pandas as pd\n",
        "sns.set()"
      ],
      "execution_count": null,
      "outputs": []
    },
    {
      "cell_type": "markdown",
      "metadata": {
        "id": "WO0lAZKEDAqm"
      },
      "source": [
        ""
      ]
    },
    {
      "cell_type": "markdown",
      "metadata": {
        "id": "0Lo4xXzdExrF"
      },
      "source": [
        "## Accuracy - Dokładność klasyfikacji\n",
        "$Accuracy= \\frac{correct predictions}{total predictions} * 100$"
      ]
    },
    {
      "cell_type": "code",
      "metadata": {
        "id": "Lo8yCqYZFHhN"
      },
      "source": [
        "y_true = np.array([1,0,1,1,0,1])\n",
        "y_pred = np.array([0,0,1,1,0,1])\n",
        "\n",
        "def accuracy(y_true, y_pred):\n",
        "  correct = 0\n",
        "  for i in range(len(y_true)):\n",
        "    if y_true[i] == y_pred[i]:\n",
        "      correct += 1\n",
        "  return correct / len(y_true) * 100"
      ],
      "execution_count": null,
      "outputs": []
    },
    {
      "cell_type": "code",
      "metadata": {
        "colab": {
          "base_uri": "https://localhost:8080/"
        },
        "id": "X62_aTQ7GBmv",
        "outputId": "e8878687-6bb5-485c-c3e0-5c2b1a3fe22e"
      },
      "source": [
        "accuracy(y_true, y_pred)"
      ],
      "execution_count": null,
      "outputs": [
        {
          "output_type": "execute_result",
          "data": {
            "text/plain": [
              "83.33333333333334"
            ]
          },
          "metadata": {
            "tags": []
          },
          "execution_count": 4
        }
      ]
    },
    {
      "cell_type": "markdown",
      "metadata": {
        "id": "iEzp6m2LGRnA"
      },
      "source": [
        "##Entropia rozkładu prawdopodobieństwa\n",
        "$Entropy==\\sum_ip_i *  log(p_i)$\n",
        "\n",
        "### Gdzie $p_i$ to prawdopodobieństwo zajścia i-tego zdarzenia. Entropia charakteryzuje możliwośc oddawania informacji przez źródło. Inaczej jest to miara nieokreśloności/ niepewności. Średnie zdziwienie ( wartość oczekiwana zdziwienia)"
      ]
    },
    {
      "cell_type": "code",
      "metadata": {
        "colab": {
          "base_uri": "https://localhost:8080/"
        },
        "id": "9w1w_t74HNVo",
        "outputId": "0e6440eb-85c7-4852-9aa7-e97633f9ddf3"
      },
      "source": [
        "def entropy(labels, base=None):\n",
        "  from math import log, e\n",
        "  n_labels = len(labels)\n",
        "\n",
        "  if n_labels <= 1:\n",
        "    return 0\n",
        "  \n",
        "  value, counts = np.unique(labels, return_counts=True)\n",
        "  probs = counts / n_labels\n",
        "  n_classes = np.count_nonzero(probs)\n",
        "\n",
        "  if n_classes <= 1:\n",
        "    return 0\n",
        "\n",
        "  ent = 0.0\n",
        "\n",
        "  base = e if base is None else base\n",
        "  for i in probs:\n",
        "    ent -= i * log(i, base)\n",
        "  return ent\n",
        "\n",
        "labels = [1,3,5,2,3,5,3,2,1,3,4,5]\n",
        "entropy(labels)\n"
      ],
      "execution_count": null,
      "outputs": [
        {
          "output_type": "execute_result",
          "data": {
            "text/plain": [
              "1.5171063970610277"
            ]
          },
          "metadata": {
            "tags": []
          },
          "execution_count": 6
        }
      ]
    },
    {
      "cell_type": "markdown",
      "metadata": {
        "id": "E0Vdsq31DLIC"
      },
      "source": [
        "##Binary Cross-Entropy\n",
        "\n",
        "$BCE = -y_{true} * log(y_{pred}) - (1 - y_{true}) * log(1- y_{pred})$\n",
        "\n",
        "#### Funckja straty definiuje sposób pomiaru wydajności sieci podczas trenowania\n",
        "#### Jest też często nazywana funkcją celu\n",
        "#### Stosowana do zadań klasyfikacji z 2 klasami"
      ]
    },
    {
      "cell_type": "code",
      "metadata": {
        "colab": {
          "base_uri": "https://localhost:8080/"
        },
        "id": "XC_Fo84oC7ML",
        "outputId": "e3ba8523-4781-4bb9-b99e-768d88fb6aa7"
      },
      "source": [
        "def binary_crossentropy(y_true, y_pred):\n",
        "  y_pred = np.clip(y_pred,0.0000001, 1-0.0000001)\n",
        "  return - y_true * np.log(y_pred) - (1.0 - y_true) * np.log(1 - y_pred)\n",
        "y_true = np.array([1,0,1,1,0,1,0])\n",
        "y_pred = np.array([0,0,1,1,0,1,1])\n",
        "binary_crossentropy(y_true, y_pred)"
      ],
      "execution_count": null,
      "outputs": [
        {
          "output_type": "execute_result",
          "data": {
            "text/plain": [
              "array([1.61180957e+01, 1.00000005e-07, 1.00000005e-07, 1.00000005e-07,\n",
              "       1.00000005e-07, 1.00000005e-07, 1.61180957e+01])"
            ]
          },
          "metadata": {
            "tags": []
          },
          "execution_count": 9
        }
      ]
    },
    {
      "cell_type": "markdown",
      "metadata": {
        "id": "xmzSiVmpD-wC"
      },
      "source": [
        "##Categorical Cross-Entropy\n",
        "\n",
        "$CCE = -\\sum_i y_{true} * log(y_{pred})$\n",
        "\n",
        "#### Funckja straty definiuje sposób pomiaru wydajności sieci podczas trenowania\n",
        "#### Jest też często nazywana funkcją celu\n",
        "#### Stosowana do zadań klasyfikacji z wieloma klasami\n",
        "#### określa miara odległości pomiędzy rozkładem rzeczywistych wartości a wartości jakimi nasza sieć proponuje"
      ]
    },
    {
      "cell_type": "code",
      "metadata": {
        "id": "AYVgHMOwP2E4"
      },
      "source": [
        "def categorical_crossentropy(y_true, y_pred):\n",
        "  y_pred = np.clip(y_pred, 0.0000001, 1- 0.0000001)\n",
        "  return -np.sum(y_true * np.log(y_pred))"
      ],
      "execution_count": null,
      "outputs": []
    },
    {
      "cell_type": "code",
      "metadata": {
        "colab": {
          "base_uri": "https://localhost:8080/"
        },
        "id": "GH3_Dek0Q2Yi",
        "outputId": "7a036956-d75f-4e85-9054-b5abbd87b8f9"
      },
      "source": [
        "y_true = np.array([1,0,0,0,0])\n",
        "y_pred = np.array([0.4, 0.3, 0.05, 0.05, 0.2])\n",
        "categorical_crossentropy(y_true, y_pred)"
      ],
      "execution_count": null,
      "outputs": [
        {
          "output_type": "execute_result",
          "data": {
            "text/plain": [
              "0.916290731874155"
            ]
          },
          "metadata": {
            "tags": []
          },
          "execution_count": 14
        }
      ]
    },
    {
      "cell_type": "code",
      "metadata": {
        "colab": {
          "base_uri": "https://localhost:8080/"
        },
        "id": "Nm2uwrRUQ3cb",
        "outputId": "d781c043-a7c7-4c79-c99b-afd08cd6ef67"
      },
      "source": [
        "y_true = np.array([1,0,0,0,0])\n",
        "y_pred = np.array([0.98, 0.01, 0.0, 0.0, 0.01])\n",
        "categorical_crossentropy(y_true, y_pred)"
      ],
      "execution_count": null,
      "outputs": [
        {
          "output_type": "execute_result",
          "data": {
            "text/plain": [
              "0.020202707317519466"
            ]
          },
          "metadata": {
            "tags": []
          },
          "execution_count": 15
        }
      ]
    },
    {
      "cell_type": "markdown",
      "metadata": {
        "id": "gfEM_KdUEs-i"
      },
      "source": [
        ""
      ]
    }
  ]
}