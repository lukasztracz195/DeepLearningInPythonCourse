{
  "nbformat": 4,
  "nbformat_minor": 0,
  "metadata": {
    "colab": {
      "name": "mnist_cnn.ipynb",
      "provenance": [],
      "authorship_tag": "ABX9TyPgeRv0u3rb/FxydzkZbKc1",
      "include_colab_link": true
    },
    "kernelspec": {
      "name": "python3",
      "display_name": "Python 3"
    },
    "accelerator": "TPU"
  },
  "cells": [
    {
      "cell_type": "markdown",
      "metadata": {
        "id": "view-in-github",
        "colab_type": "text"
      },
      "source": [
        "<a href=\"https://colab.research.google.com/github/lukasztracz195/DeepLearningInPythonCourse/blob/main/mnist_cnn.ipynb\" target=\"_parent\"><img src=\"https://colab.research.google.com/assets/colab-badge.svg\" alt=\"Open In Colab\"/></a>"
      ]
    },
    {
      "cell_type": "markdown",
      "metadata": {
        "id": "wbJ6J2ZwBXZv"
      },
      "source": [
        "## Konwolucyjna Sieć Neuronowa - MNIST"
      ]
    },
    {
      "cell_type": "markdown",
      "metadata": {
        "id": "H_-P3MeCCmsG"
      },
      "source": [
        "### Import bilbiotek"
      ]
    },
    {
      "cell_type": "code",
      "metadata": {
        "id": "Kbs2sa_D_kKW"
      },
      "source": [
        "import keras\n",
        "from keras.datasets import mnist\n",
        "from keras.models import Sequential\n",
        "from keras.layers import Dense, Flatten, Conv2D, MaxPooling2D\n",
        "import matplotlib.pyplot as plt"
      ],
      "execution_count": 27,
      "outputs": []
    },
    {
      "cell_type": "markdown",
      "metadata": {
        "id": "Z0isUKfaCpH_"
      },
      "source": [
        "### Podział zbioru na treningowy i testowy"
      ]
    },
    {
      "cell_type": "code",
      "metadata": {
        "id": "yHw-XOvECYao"
      },
      "source": [
        "(X_train, y_train), (X_test, y_test) = mnist.load_data()"
      ],
      "execution_count": 28,
      "outputs": []
    },
    {
      "cell_type": "markdown",
      "metadata": {
        "id": "b9WwiF63CuYM"
      },
      "source": [
        "### Eksploracja"
      ]
    },
    {
      "cell_type": "code",
      "metadata": {
        "colab": {
          "base_uri": "https://localhost:8080/"
        },
        "id": "NPZmOfGyCgwL",
        "outputId": "3c7aac39-76d4-4c2d-a015-382880d111d6"
      },
      "source": [
        "print(X_train.shape)\n",
        "print(X_test.shape)\n",
        "print(y_train.shape)\n",
        "print(y_test.shape)\n",
        "\n",
        "print('Liczba danych treningowych: ', X_train.shape[0])\n",
        "print('Liczzba danych testowych: ',X_test.shape[0])\n",
        "print(\"Rozmiar pojedynczego obrazka: \", X_train[0].shape)"
      ],
      "execution_count": 29,
      "outputs": [
        {
          "output_type": "stream",
          "text": [
            "(60000, 28, 28)\n",
            "(10000, 28, 28)\n",
            "(60000,)\n",
            "(10000,)\n",
            "Liczba danych treningowych:  60000\n",
            "Liczzba danych testowych:  10000\n",
            "Rozmiar pojedynczego obrazka:  (28, 28)\n"
          ],
          "name": "stdout"
        }
      ]
    },
    {
      "cell_type": "code",
      "metadata": {
        "colab": {
          "base_uri": "https://localhost:8080/",
          "height": 266
        },
        "id": "gHN3thgBCxxM",
        "outputId": "19d77794-fc6a-464a-9c47-be5ebdc7353f"
      },
      "source": [
        "plt.imshow(X_train[0], cmap='Greys')\n",
        "plt.axis('off')"
      ],
      "execution_count": 30,
      "outputs": [
        {
          "output_type": "execute_result",
          "data": {
            "text/plain": [
              "(-0.5, 27.5, 27.5, -0.5)"
            ]
          },
          "metadata": {
            "tags": []
          },
          "execution_count": 30
        },
        {
          "output_type": "display_data",
          "data": {
            "image/png": "[encoded data removed]",
            "text/plain": [
              "<Figure size 432x288 with 1 Axes>"
            ]
          },
          "metadata": {
            "tags": [],
            "needs_background": "light"
          }
        }
      ]
    },
    {
      "cell_type": "code",
      "metadata": {
        "colab": {
          "base_uri": "https://localhost:8080/"
        },
        "id": "1J3jAp-rgcsJ",
        "outputId": "b3d5d178-2970-4f4a-c1cf-79f5629bdc33"
      },
      "source": [
        "print(keras.backend.image_data_format())"
      ],
      "execution_count": 31,
      "outputs": [
        {
          "output_type": "stream",
          "text": [
            "channels_last\n"
          ],
          "name": "stdout"
        }
      ]
    },
    {
      "cell_type": "code",
      "metadata": {
        "colab": {
          "base_uri": "https://localhost:8080/"
        },
        "id": "bFGK9zOUDPZz",
        "outputId": "70df81f8-8758-48d3-f0ad-8774fd9c955c"
      },
      "source": [
        "img_rows, img_cols = 28,28\n",
        "if keras.backend.image_data_format() == 'channel_first':\n",
        "  X_train = X_train.reshape(X_train)\n",
        "  X_test = X_test.reshape(X_test.shape[0], 1, img_rows, img_cols)\n",
        "  input_shape = (1, img_rows, img_cols)\n",
        "else:\n",
        "  X_train = X_train.reshape(X_train.shape[0], img_rows, img_cols, 1)\n",
        "  X_test = X_test.reshape(X_test.shape[0], img_rows, img_cols, 1)\n",
        "  input_shape = (img_rows, img_cols, 1)\n",
        "\n",
        "print(input_shape)"
      ],
      "execution_count": 32,
      "outputs": [
        {
          "output_type": "stream",
          "text": [
            "(28, 28, 1)\n"
          ],
          "name": "stdout"
        }
      ]
    },
    {
      "cell_type": "code",
      "metadata": {
        "colab": {
          "base_uri": "https://localhost:8080/"
        },
        "id": "gbNaY-ndfqR5",
        "outputId": "c6442574-4441-4dac-be6e-84098d4ff53b"
      },
      "source": [
        "X_train = X_train.astype('float32')\n",
        "X_test = X_test.astype('float32')\n",
        "\n",
        "X_train /= 255\n",
        "X_test /= 255\n",
        "print(X_train.shape)\n",
        "print(X_test.shape)"
      ],
      "execution_count": 33,
      "outputs": [
        {
          "output_type": "stream",
          "text": [
            "(60000, 28, 28, 1)\n",
            "(10000, 28, 28, 1)\n"
          ],
          "name": "stdout"
        }
      ]
    },
    {
      "cell_type": "code",
      "metadata": {
        "colab": {
          "base_uri": "https://localhost:8080/"
        },
        "id": "_6caHSRxgFho",
        "outputId": "61e4cd89-edce-4342-d223-106f15378b49"
      },
      "source": [
        "y_train = keras.utils.to_categorical(y_train, num_classes=10)\n",
        "y_test = keras.utils.to_categorical(y_test, num_classes=10)\n",
        "\n",
        "print(y_train.shape)\n",
        "print(y_test.shape)"
      ],
      "execution_count": 34,
      "outputs": [
        {
          "output_type": "stream",
          "text": [
            "(60000, 10)\n",
            "(10000, 10)\n"
          ],
          "name": "stdout"
        }
      ]
    },
    {
      "cell_type": "markdown",
      "metadata": {
        "id": "x6dPKSY-hSKd"
      },
      "source": [
        "##Budowa modelu"
      ]
    },
    {
      "cell_type": "code",
      "metadata": {
        "colab": {
          "base_uri": "https://localhost:8080/"
        },
        "id": "rY_6YqfLhF9O",
        "outputId": "d0b15742-a4f1-4577-fd86-12a760efff56"
      },
      "source": [
        "model = Sequential()\n",
        "model.add(Conv2D(filters=32, kernel_size=(3, 3), activation='relu', input_shape=(28,28,1)))\n",
        "model.add(Conv2D(filters=64, kernel_size=(3, 3), activation='relu'))\n",
        "model.add(MaxPooling2D(pool_size=(2,2)))\n",
        "model.add(Flatten())\n",
        "model.add(Dense(units=128, activation='relu'))\n",
        "model.add(Dense(units=10, activation='softmax'))\n",
        "model.summary()"
      ],
      "execution_count": 35,
      "outputs": [
        {
          "output_type": "stream",
          "text": [
            "Model: \"sequential_2\"\n",
            "_________________________________________________________________\n",
            "Layer (type)                 Output Shape              Param #   \n",
            "=================================================================\n",
            "conv2d_4 (Conv2D)            (None, 26, 26, 32)        320       \n",
            "_________________________________________________________________\n",
            "conv2d_5 (Conv2D)            (None, 24, 24, 64)        18496     \n",
            "_________________________________________________________________\n",
            "max_pooling2d_2 (MaxPooling2 (None, 12, 12, 64)        0         \n",
            "_________________________________________________________________\n",
            "flatten_2 (Flatten)          (None, 9216)              0         \n",
            "_________________________________________________________________\n",
            "dense_4 (Dense)              (None, 128)               1179776   \n",
            "_________________________________________________________________\n",
            "dense_5 (Dense)              (None, 10)                1290      \n",
            "=================================================================\n",
            "Total params: 1,199,882\n",
            "Trainable params: 1,199,882\n",
            "Non-trainable params: 0\n",
            "_________________________________________________________________\n"
          ],
          "name": "stdout"
        }
      ]
    },
    {
      "cell_type": "code",
      "metadata": {
        "id": "ojKiCTgNhZKj"
      },
      "source": [
        "model.compile(optimizer='adadelta', loss='categorical_crossentropy', metrics =['accuracy'])"
      ],
      "execution_count": 36,
      "outputs": []
    },
    {
      "cell_type": "code",
      "metadata": {
        "colab": {
          "base_uri": "https://localhost:8080/"
        },
        "id": "IqH2_3-qjNpX",
        "outputId": "c94e869e-f1a7-473f-8db0-681aba09fb2b"
      },
      "source": [
        "history = model.fit(X_train, y_train, batch_size=128, epochs=20, validation_data=(X_test, y_test))"
      ],
      "execution_count": 37,
      "outputs": [
        {
          "output_type": "stream",
          "text": [
            "Epoch 1/20\n",
            "469/469 [==============================] - 139s 295ms/step - loss: 2.2827 - accuracy: 0.2241 - val_loss: 2.2515 - val_accuracy: 0.3967\n",
            "Epoch 2/20\n",
            "469/469 [==============================] - 139s 296ms/step - loss: 2.2116 - accuracy: 0.4698 - val_loss: 2.1649 - val_accuracy: 0.5216\n",
            "Epoch 3/20\n",
            "469/469 [==============================] - 138s 294ms/step - loss: 2.0993 - accuracy: 0.5730 - val_loss: 2.0159 - val_accuracy: 0.6161\n",
            "Epoch 4/20\n",
            "469/469 [==============================] - 139s 296ms/step - loss: 1.8969 - accuracy: 0.6490 - val_loss: 1.7428 - val_accuracy: 0.6886\n",
            "Epoch 5/20\n",
            "469/469 [==============================] - 137s 293ms/step - loss: 1.5572 - accuracy: 0.7095 - val_loss: 1.3408 - val_accuracy: 0.7492\n",
            "Epoch 6/20\n",
            "469/469 [==============================] - 138s 294ms/step - loss: 1.1650 - accuracy: 0.7639 - val_loss: 0.9790 - val_accuracy: 0.7982\n",
            "Epoch 7/20\n",
            "469/469 [==============================] - 139s 296ms/step - loss: 0.8767 - accuracy: 0.8008 - val_loss: 0.7566 - val_accuracy: 0.8259\n",
            "Epoch 8/20\n",
            "469/469 [==============================] - 139s 296ms/step - loss: 0.7068 - accuracy: 0.8261 - val_loss: 0.6279 - val_accuracy: 0.8471\n",
            "Epoch 9/20\n",
            "469/469 [==============================] - 139s 297ms/step - loss: 0.6062 - accuracy: 0.8435 - val_loss: 0.5493 - val_accuracy: 0.8617\n",
            "Epoch 10/20\n",
            "469/469 [==============================] - 137s 293ms/step - loss: 0.5420 - accuracy: 0.8559 - val_loss: 0.4975 - val_accuracy: 0.8732\n",
            "Epoch 11/20\n",
            "469/469 [==============================] - 137s 292ms/step - loss: 0.4981 - accuracy: 0.8656 - val_loss: 0.4607 - val_accuracy: 0.8794\n",
            "Epoch 12/20\n",
            "469/469 [==============================] - 137s 292ms/step - loss: 0.4663 - accuracy: 0.8717 - val_loss: 0.4339 - val_accuracy: 0.8860\n",
            "Epoch 13/20\n",
            "469/469 [==============================] - 137s 293ms/step - loss: 0.4423 - accuracy: 0.8770 - val_loss: 0.4131 - val_accuracy: 0.8897\n",
            "Epoch 14/20\n",
            "469/469 [==============================] - 137s 292ms/step - loss: 0.4236 - accuracy: 0.8814 - val_loss: 0.3966 - val_accuracy: 0.8923\n",
            "Epoch 15/20\n",
            "469/469 [==============================] - 139s 296ms/step - loss: 0.4083 - accuracy: 0.8844 - val_loss: 0.3834 - val_accuracy: 0.8947\n",
            "Epoch 16/20\n",
            "469/469 [==============================] - 139s 296ms/step - loss: 0.3955 - accuracy: 0.8872 - val_loss: 0.3718 - val_accuracy: 0.8964\n",
            "Epoch 17/20\n",
            "469/469 [==============================] - 141s 301ms/step - loss: 0.3847 - accuracy: 0.8897 - val_loss: 0.3619 - val_accuracy: 0.8993\n",
            "Epoch 18/20\n",
            "469/469 [==============================] - 141s 301ms/step - loss: 0.3752 - accuracy: 0.8922 - val_loss: 0.3533 - val_accuracy: 0.9013\n",
            "Epoch 19/20\n",
            "469/469 [==============================] - 143s 305ms/step - loss: 0.3670 - accuracy: 0.8943 - val_loss: 0.3458 - val_accuracy: 0.9033\n",
            "Epoch 20/20\n",
            "469/469 [==============================] - 143s 306ms/step - loss: 0.3595 - accuracy: 0.8958 - val_loss: 0.3391 - val_accuracy: 0.9053\n"
          ],
          "name": "stdout"
        }
      ]
    },
    {
      "cell_type": "code",
      "metadata": {
        "id": "DxCGw5RrjhrV"
      },
      "source": [
        "def make_accuracy_plot(history):\n",
        "  \"\"\"\n",
        "  Funckja zwraca wykres dokładności (accuracy) modelu na zbiorze treningowym i walidacyjnym.\n",
        "  \"\"\"\n",
        "\n",
        "  import matplotlib.pyplot as plt\n",
        "  import seaborn as sns\n",
        "  sns.set()\n",
        "  acc, val_acc = history.history['accuracy'], history.history['val_accuracy']\n",
        "  epochs = range(1, len(acc)+1)\n",
        "\n",
        "  plt.figure(figsize=(10,8))\n",
        "  plt.plot(epochs, acc, label='Dokladność trenowania', marker='o')\n",
        "  plt.plot(epochs, val_acc, label='Dokladność walidacji', marker='o')\n",
        "  plt.legend()\n",
        "  plt.title('Dokładność trenowania i walidacji')\n",
        "  plt.xlabel('Epoki')\n",
        "  plt.ylabel('Dokładność')\n",
        "  plt.show()"
      ],
      "execution_count": 38,
      "outputs": []
    },
    {
      "cell_type": "code",
      "metadata": {
        "id": "KLSPZ4Xkn7v8"
      },
      "source": [
        "def make_loss_plot(history):\n",
        "  \"\"\"\n",
        "  Funkjca zwraca wykres straty (loss) modelu na zbiorze treningowym\n",
        "  i walidacyjnym\n",
        "  \"\"\"\n",
        "\n",
        "  import matplotlib.pyplot as plt\n",
        "  import seaborn as sns\n",
        "  sns.set()\n",
        "  loss, val_loss = history.history['loss'], history.history['val_loss']\n",
        "  epochs = range(1, len(loss)+ 1)\n",
        "\n",
        "  plt.figure(figsize = (10,8))\n",
        "  plt.plot(epochs, loss, label='Strata trenowania', marker='o')\n",
        "  plt.plot(epochs, val_loss, label=\"Strata walidacji\", marker='o')\n",
        "  plt.legend()\n",
        "  plt.title('Strata trenowania i walidacji')\n",
        "  plt.xlabel('Epoki')\n",
        "  plt.ylabel('Strata')\n",
        "  plt.show()"
      ],
      "execution_count": 39,
      "outputs": []
    },
    {
      "cell_type": "code",
      "metadata": {
        "colab": {
          "base_uri": "https://localhost:8080/",
          "height": 518
        },
        "id": "ncEYpksNn_Sn",
        "outputId": "83fffe8b-0ec9-426b-9f45-ac183c107a21"
      },
      "source": [
        "make_accuracy_plot(history)"
      ],
      "execution_count": 40,
      "outputs": [
        {
          "output_type": "display_data",
          "data": {
            "image/png": "[encoded data removed]",
            "text/plain": [
              "<Figure size 720x576 with 1 Axes>"
            ]
          },
          "metadata": {
            "tags": []
          }
        }
      ]
    },
    {
      "cell_type": "code",
      "metadata": {
        "colab": {
          "base_uri": "https://localhost:8080/",
          "height": 518
        },
        "id": "YdqbnP1eoCeQ",
        "outputId": "9e188dc3-c628-406a-c3e4-d266ae2d87fc"
      },
      "source": [
        "make_loss_plot(history)"
      ],
      "execution_count": 41,
      "outputs": [
        {
          "output_type": "display_data",
          "data": {
            "image/png": "[encoded data removed]",
            "text/plain": [
              "<Figure size 720x576 with 1 Axes>"
            ]
          },
          "metadata": {
            "tags": []
          }
        }
      ]
    },
    {
      "cell_type": "markdown",
      "metadata": {
        "id": "PYj-bG23vyqz"
      },
      "source": [
        "##Wnioski\n",
        "### Nie udało nam się osiągnąć zjawiska overfittingu w ciągu 20 epok"
      ]
    },
    {
      "cell_type": "code",
      "metadata": {
        "id": "fhH4b6iEoFAy"
      },
      "source": [
        ""
      ],
      "execution_count": null,
      "outputs": []
    }
  ]
}