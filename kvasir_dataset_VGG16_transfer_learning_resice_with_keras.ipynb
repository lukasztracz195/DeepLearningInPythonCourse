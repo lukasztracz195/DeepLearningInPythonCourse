{
  "nbformat": 4,
  "nbformat_minor": 0,
  "metadata": {
    "colab": {
      "name": "kvasir_dataset_VGG16_transfer_learning.ipynb",
      "provenance": [],
      "collapsed_sections": [],
      "authorship_tag": "ABX9TyPTXav9F89CWTbt/c40ml2v",
      "include_colab_link": true
    },
    "kernelspec": {
      "name": "python3",
      "display_name": "Python 3"
    },
    "language_info": {
      "name": "python"
    },
    "accelerator": "GPU"
  },
  "cells": [
    {
      "cell_type": "markdown",
      "metadata": {
        "id": "view-in-github",
        "colab_type": "text"
      },
      "source": [
        "<a href=\"https://colab.research.google.com/github/lukasztracz195/DeepLearningInPythonCourse/blob/main/kvasir_dataset_VGG16_transfer_learning_resice_with_keras.ipynb\" target=\"_parent\"><img src=\"https://colab.research.google.com/assets/colab-badge.svg\" alt=\"Open In Colab\"/></a>"
      ]
    },
    {
      "cell_type": "markdown",
      "metadata": {
        "id": "8en_j9_B4ffS"
      },
      "source": [
        "#Wykorzystanie już wytrenowanego modelu VGG16 do klasyfikacji datasetu kvasir"
      ]
    },
    {
      "cell_type": "markdown",
      "metadata": {
        "id": "xZauBYSD5lHw"
      },
      "source": [
        "#1. Przygotowanie środowiska"
      ]
    },
    {
      "cell_type": "markdown",
      "metadata": {
        "id": "R6xFboH25BWF"
      },
      "source": [
        "##1.1 Sprawdzenie wersji pythona zainstalowanej na serwerze Google Colaboratory"
      ]
    },
    {
      "cell_type": "code",
      "metadata": {
        "colab": {
          "base_uri": "https://localhost:8080/"
        },
        "id": "V-CAFIXc30_g",
        "outputId": "ccadac30-87d0-4ddb-cde4-4864f689244b"
      },
      "source": [
        "!python --version"
      ],
      "execution_count": null,
      "outputs": [
        {
          "output_type": "stream",
          "name": "stdout",
          "text": [
            "Python 3.7.12\n"
          ]
        }
      ]
    },
    {
      "cell_type": "markdown",
      "metadata": {
        "id": "7W1IzM0_5IZD"
      },
      "source": [
        "##1.2 Instalcja odpowiedniej wersji pakietu Tensorflow\n"
      ]
    },
    {
      "cell_type": "code",
      "metadata": {
        "colab": {
          "base_uri": "https://localhost:8080/"
        },
        "id": "IAgzOKDD5EBk",
        "outputId": "7e2da2fe-bc4b-4875-9c3b-efbe34ce98cd"
      },
      "source": [
        "#To determine which version you're using:\n",
        "!pip show tensorflow\n",
        "\n",
        "# For a specific version:\n",
        "# !pip install tensorflow==2.4.1"
      ],
      "execution_count": null,
      "outputs": [
        {
          "output_type": "stream",
          "name": "stdout",
          "text": [
            "Name: tensorflow\n",
            "Version: 2.6.0\n",
            "Summary: TensorFlow is an open source machine learning framework for everyone.\n",
            "Home-page: https://www.tensorflow.org/\n",
            "Author: Google Inc.\n",
            "Author-email: packages@tensorflow.org\n",
            "License: Apache 2.0\n",
            "Location: /usr/local/lib/python3.7/dist-packages\n",
            "Requires: astunparse, absl-py, h5py, keras-preprocessing, termcolor, protobuf, keras, tensorboard, gast, flatbuffers, clang, google-pasta, grpcio, wrapt, numpy, six, typing-extensions, wheel, tensorflow-estimator, opt-einsum\n",
            "Required-by: kapre\n"
          ]
        }
      ]
    },
    {
      "cell_type": "markdown",
      "metadata": {
        "id": "zbAsuU0J5NNE"
      },
      "source": [
        "##1.3 Instalcja odpowiedniej wersji pakietu keras"
      ]
    },
    {
      "cell_type": "code",
      "metadata": {
        "colab": {
          "base_uri": "https://localhost:8080/"
        },
        "id": "DIitvrdl5KVE",
        "outputId": "b997dc41-8d33-47b8-a279-35d39b5a3f6d"
      },
      "source": [
        "!pip3 show keras\n",
        "# !pip3 install keras==2.4.3\n"
      ],
      "execution_count": null,
      "outputs": [
        {
          "output_type": "stream",
          "name": "stdout",
          "text": [
            "Name: keras\n",
            "Version: 2.6.0\n",
            "Summary: TensorFlow Keras.\n",
            "Home-page: https://keras.io/\n",
            "Author: Google Inc.\n",
            "Author-email: packages@tensorflow.org\n",
            "License: Apache 2.0\n",
            "Location: /usr/local/lib/python3.7/dist-packages\n",
            "Requires: \n",
            "Required-by: tensorflow, keras-vis\n"
          ]
        }
      ]
    },
    {
      "cell_type": "markdown",
      "metadata": {
        "id": "SXp0bj1X5V6c"
      },
      "source": [
        "##1.4 Podłączenie się do dysku Google (Obcjonalne by móc zapisywać utworzone pliki)\n"
      ]
    },
    {
      "cell_type": "code",
      "metadata": {
        "id": "NUcxYnOV5bl0"
      },
      "source": [
        "# from google.colab import drive\n",
        "# drive.mount('/content/drive')"
      ],
      "execution_count": null,
      "outputs": []
    },
    {
      "cell_type": "markdown",
      "metadata": {
        "id": "c3i0Wm_o5su8"
      },
      "source": [
        "# 2. Przygotowanie danych"
      ]
    },
    {
      "cell_type": "markdown",
      "metadata": {
        "id": "74nb_Bp26dOe"
      },
      "source": [
        "##2.1 Zdefiniowanie linków do datasetów kvasir"
      ]
    },
    {
      "cell_type": "code",
      "metadata": {
        "id": "lKtE-_tF5sR0"
      },
      "source": [
        "kvasir_dataset_v2_google_drive_url = \"https://drive.google.com/u/0/uc?export=download&confirm=s837&id=1rQ79Usso9vrI9FiWCvP7Km8ZcpibslUB\"\n"
      ],
      "execution_count": null,
      "outputs": []
    },
    {
      "cell_type": "markdown",
      "metadata": {
        "id": "7J1Zfj9E8LxV"
      },
      "source": [
        "##2.2 Pobranie i rozpakowanie danych kvasir_dataset_v2"
      ]
    },
    {
      "cell_type": "code",
      "metadata": {
        "colab": {
          "base_uri": "https://localhost:8080/"
        },
        "id": "xU2ASAnH7msh",
        "outputId": "eaa1115c-ccb1-4784-d918-48a9bb08a32f"
      },
      "source": [
        "from google_drive_downloader import GoogleDriveDownloader as gdd\n",
        "\n",
        "kvasir_dataset_v2_file_id = '1rQ79Usso9vrI9FiWCvP7Km8ZcpibslUB'\n",
        "gdd.download_file_from_google_drive(file_id='1rQ79Usso9vrI9FiWCvP7Km8ZcpibslUB',\n",
        "                                    dest_path='./kvasir-dataset-v2.zip',\n",
        "                                    unzip=True)"
      ],
      "execution_count": null,
      "outputs": [
        {
          "output_type": "stream",
          "name": "stdout",
          "text": [
            "Downloading 1rQ79Usso9vrI9FiWCvP7Km8ZcpibslUB into ./kvasir-dataset-v2.zip... Done.\n",
            "Unzipping...Done.\n"
          ]
        }
      ]
    },
    {
      "cell_type": "code",
      "metadata": {
        "id": "Okydx62LD2Pl"
      },
      "source": [
        "!rm -fR ./kvasir-dataset-v2.zip"
      ],
      "execution_count": null,
      "outputs": []
    },
    {
      "cell_type": "markdown",
      "metadata": {
        "id": "K3o9bvxpEuiE"
      },
      "source": [
        "###2.3.2 Sprawdzenie jakimi rozmiarami i formatami obrazów dysponujemy"
      ]
    },
    {
      "cell_type": "markdown",
      "metadata": {
        "id": "7zUAR7goE7KN"
      },
      "source": [
        "### 2.3.2 Dane jakimi dysponujemy wyamgają ujednolicenia ich do tego samego rozmiaru by móc ich użyć w modelu sieci neuronowej"
      ]
    },
    {
      "cell_type": "markdown",
      "metadata": {
        "id": "RLNa1WV1FzkU"
      },
      "source": [
        "##2.4 Zmiana rozmiarów obrazów w datasecie"
      ]
    },
    {
      "cell_type": "markdown",
      "metadata": {
        "id": "HtvQCeAyGDAc"
      },
      "source": [
        "###2.4.1 Utowrzenie funkcji do zmainy rozmiaru obrazu"
      ]
    },
    {
      "cell_type": "markdown",
      "metadata": {
        "id": "yLdFu4IkGlg-"
      },
      "source": [
        "###2.4.2 Zmiana rozmiaru obrazów na żadany w datasecie"
      ]
    },
    {
      "cell_type": "code",
      "metadata": {
        "id": "4LDSyW2GLss2"
      },
      "source": [
        ""
      ],
      "execution_count": null,
      "outputs": []
    },
    {
      "cell_type": "markdown",
      "metadata": {
        "id": "J0GffMpfITBS"
      },
      "source": [
        "###2.4.3 Sprawdzenie czy zmiana rozmiaru danych się powiodła"
      ]
    },
    {
      "cell_type": "markdown",
      "metadata": {
        "id": "-o1O_oW1Jnft"
      },
      "source": [
        "###2.5 Podział danych na treningowe i testowe"
      ]
    },
    {
      "cell_type": "code",
      "metadata": {
        "colab": {
          "base_uri": "https://localhost:8080/"
        },
        "id": "56SAUWnSIwH0",
        "outputId": "8a4e957c-b186-4185-a7a1-de1272d822c0"
      },
      "source": [
        "import os\n",
        "import numpy as np\n",
        "import shutil\n",
        "import random\n",
        "global_path = \"/content\"\n",
        "path_to_dataset = \"kvasir-dataset-v2\"\n",
        "root_dir = global_path + \"/\" + path_to_dataset + \"/\"\n",
        "classes= [\"dyed-lifted-polyps\", \"dyed-resection-margins\", \"esophagitis\", \"normal-cecum\", \"normal-pylorus\", \"normal-z-line\", \"polyps\", \"ulcerative-colitis\"]\n",
        "# classes_dir = [\"dyed\", \"not_dyed\"]\n",
        "# dictionary_mapping_src_to_output_class = dict()\n",
        "# dictionary_mapping_src_to_output_class[\"dyed\"] = [\"dyed-lifted-polyps\", \"dyed-resection-margins\"]\n",
        "# dictionary_mapping_src_to_output_class[\"not_dyed\"] = [\"esophagitis\", \"normal-cecum\", \"normal-pylorus\", \"normal-z-line\", \"polyps\", \"ulcerative-colitis\"]\n",
        "# classes_dir = [\"dyed\", \"not_dyed\"]\n",
        "\n",
        "test_ratio = 0.20\n",
        "\n",
        "for cls in classes:\n",
        "    os.makedirs(root_dir +'train/' + cls)\n",
        "    os.makedirs(root_dir +'test/' + cls)\n",
        "\n",
        "src = root_dir + cls\n",
        "\n",
        "allFileNames = os.listdir(src)\n",
        "np.random.shuffle(allFileNames)\n",
        "train_FileNames, test_FileNames = np.split(np.array(allFileNames),[int(len(allFileNames)* (1 - test_ratio))])\n",
        "\n",
        "\n",
        "train_FileNames = [src+'/'+ name for name in train_FileNames.tolist()]\n",
        "test_FileNames = [src+'/' + name for name in test_FileNames.tolist()]\n",
        "\n",
        "print(\"*****************************\")\n",
        "print('Total images: ', len(allFileNames))\n",
        "print('Training: ', len(train_FileNames))\n",
        "print('Testing: ', len(test_FileNames))\n",
        "print(\"*****************************\")\n",
        "\n",
        "\n",
        "lab = classes\n",
        "\n",
        "for name in train_FileNames:\n",
        "    for i in lab:\n",
        "        shutil.copy(name, root_dir +'train/' + i)\n",
        "\n",
        "for name in test_FileNames:\n",
        "    for i in lab:\n",
        "        shutil.copy(name, root_dir +'test/' + i)\n",
        "print(\"Copying Done!\")"
      ],
      "execution_count": null,
      "outputs": [
        {
          "output_type": "stream",
          "name": "stdout",
          "text": [
            "*****************************\n",
            "Total images:  1000\n",
            "Training:  800\n",
            "Testing:  200\n",
            "*****************************\n",
            "Copying Done!\n"
          ]
        }
      ]
    },
    {
      "cell_type": "markdown",
      "metadata": {
        "id": "jk9JhG5mKlZF"
      },
      "source": [
        "## 2.6 Przygotowanie datasetu zgodnie z api kerasa"
      ]
    },
    {
      "cell_type": "code",
      "metadata": {
        "colab": {
          "base_uri": "https://localhost:8080/"
        },
        "id": "THJcS0_XKdbz",
        "outputId": "2b7806e9-9b5f-4f45-daec-5fe93d2a4a09"
      },
      "source": [
        "from tensorflow import keras\n",
        "from tensorflow.keras.preprocessing import image_dataset_from_directory\n",
        "\n",
        "global_path = \"/content\"\n",
        "path_to_dataset = \"kvasir-dataset-v2\"\n",
        "root_dir = global_path + \"/\" + path_to_dataset + \"/\"\n",
        "TARGET_SIZE = (224,224)\n",
        "\n",
        "train_ds = image_dataset_from_directory(\n",
        "    directory=root_dir + \"train/\",\n",
        "    labels='inferred',\n",
        "    label_mode='categorical',\n",
        "    batch_size=32,\n",
        "    interpolation=\"bilinear\",\n",
        "    image_size=TARGET_SIZE)\n",
        "test_ds = image_dataset_from_directory(\n",
        "    directory=root_dir + \"test/\",\n",
        "    labels='inferred',\n",
        "    interpolation=\"bilinear\",\n",
        "    label_mode='categorical',\n",
        "    batch_size=32,\n",
        "    image_size=TARGET_SIZE)"
      ],
      "execution_count": null,
      "outputs": [
        {
          "output_type": "stream",
          "name": "stdout",
          "text": [
            "Found 6400 files belonging to 8 classes.\n",
            "Found 1600 files belonging to 8 classes.\n"
          ]
        }
      ]
    },
    {
      "cell_type": "markdown",
      "metadata": {
        "id": "CvvLuc1dMeLD"
      },
      "source": [
        "#3. Opracowywanie modelu sieci neuronowej bazując na VGG16"
      ]
    },
    {
      "cell_type": "markdown",
      "metadata": {
        "id": "JVihnmvKLyDO"
      },
      "source": [
        "##3.1 Przygotowanie modelu wytrenowanej już sieci VGG16"
      ]
    },
    {
      "cell_type": "code",
      "metadata": {
        "colab": {
          "base_uri": "https://localhost:8080/"
        },
        "id": "ytjkEqjhLod8",
        "outputId": "57c7c279-15dd-4738-8ee3-51ec350e9dd2"
      },
      "source": [
        "import os\n",
        "import numpy as np\n",
        "import random\n",
        "\n",
        "import keras\n",
        "from tensorflow.keras.applications.vgg16 import VGG16\n",
        "from keras.models import Sequential\n",
        "from keras.layers import Dense, Dropout, Flatten, Activation, Input\n",
        "from keras.layers import Conv2D, MaxPooling2D\n",
        "from keras.models import Model\n",
        "from keras.preprocessing import image\n",
        "from keras.applications.vgg16 import preprocess_input\n",
        "\n",
        "import matplotlib.pyplot as plt\n",
        "from matplotlib.pyplot import imshow\n",
        "\n",
        "vgg = VGG16(weights='imagenet', include_top=True)\n",
        "vgg.summary()"
      ],
      "execution_count": null,
      "outputs": [
        {
          "output_type": "stream",
          "name": "stdout",
          "text": [
            "Downloading data from https://storage.googleapis.com/tensorflow/keras-applications/vgg16/vgg16_weights_tf_dim_ordering_tf_kernels.h5\n",
            "553467904/553467096 [==============================] - 6s 0us/step\n",
            "553476096/553467096 [==============================] - 6s 0us/step\n",
            "Model: \"vgg16\"\n",
            "_________________________________________________________________\n",
            "Layer (type)                 Output Shape              Param #   \n",
            "=================================================================\n",
            "input_1 (InputLayer)         [(None, 224, 224, 3)]     0         \n",
            "_________________________________________________________________\n",
            "block1_conv1 (Conv2D)        (None, 224, 224, 64)      1792      \n",
            "_________________________________________________________________\n",
            "block1_conv2 (Conv2D)        (None, 224, 224, 64)      36928     \n",
            "_________________________________________________________________\n",
            "block1_pool (MaxPooling2D)   (None, 112, 112, 64)      0         \n",
            "_________________________________________________________________\n",
            "block2_conv1 (Conv2D)        (None, 112, 112, 128)     73856     \n",
            "_________________________________________________________________\n",
            "block2_conv2 (Conv2D)        (None, 112, 112, 128)     147584    \n",
            "_________________________________________________________________\n",
            "block2_pool (MaxPooling2D)   (None, 56, 56, 128)       0         \n",
            "_________________________________________________________________\n",
            "block3_conv1 (Conv2D)        (None, 56, 56, 256)       295168    \n",
            "_________________________________________________________________\n",
            "block3_conv2 (Conv2D)        (None, 56, 56, 256)       590080    \n",
            "_________________________________________________________________\n",
            "block3_conv3 (Conv2D)        (None, 56, 56, 256)       590080    \n",
            "_________________________________________________________________\n",
            "block3_pool (MaxPooling2D)   (None, 28, 28, 256)       0         \n",
            "_________________________________________________________________\n",
            "block4_conv1 (Conv2D)        (None, 28, 28, 512)       1180160   \n",
            "_________________________________________________________________\n",
            "block4_conv2 (Conv2D)        (None, 28, 28, 512)       2359808   \n",
            "_________________________________________________________________\n",
            "block4_conv3 (Conv2D)        (None, 28, 28, 512)       2359808   \n",
            "_________________________________________________________________\n",
            "block4_pool (MaxPooling2D)   (None, 14, 14, 512)       0         \n",
            "_________________________________________________________________\n",
            "block5_conv1 (Conv2D)        (None, 14, 14, 512)       2359808   \n",
            "_________________________________________________________________\n",
            "block5_conv2 (Conv2D)        (None, 14, 14, 512)       2359808   \n",
            "_________________________________________________________________\n",
            "block5_conv3 (Conv2D)        (None, 14, 14, 512)       2359808   \n",
            "_________________________________________________________________\n",
            "block5_pool (MaxPooling2D)   (None, 7, 7, 512)         0         \n",
            "_________________________________________________________________\n",
            "flatten (Flatten)            (None, 25088)             0         \n",
            "_________________________________________________________________\n",
            "fc1 (Dense)                  (None, 4096)              102764544 \n",
            "_________________________________________________________________\n",
            "fc2 (Dense)                  (None, 4096)              16781312  \n",
            "_________________________________________________________________\n",
            "predictions (Dense)          (None, 1000)              4097000   \n",
            "=================================================================\n",
            "Total params: 138,357,544\n",
            "Trainable params: 138,357,544\n",
            "Non-trainable params: 0\n",
            "_________________________________________________________________\n"
          ]
        }
      ]
    },
    {
      "cell_type": "markdown",
      "metadata": {
        "id": "boudIhMCME_g"
      },
      "source": [
        "##3.2 Zmiana warstwy wyjściowej sieci VGG16 by zwracała 8 klas"
      ]
    },
    {
      "cell_type": "code",
      "metadata": {
        "colab": {
          "base_uri": "https://localhost:8080/"
        },
        "id": "6nKQjWHcMAsH",
        "outputId": "9408e459-884c-4e0b-8231-9802dfe25e7a"
      },
      "source": [
        "input_shape = (TARGET_SIZE[0],TARGET_SIZE[1],3)\n",
        "nClasses = 8\n",
        "print(\"INPUT_SHAPE: \", input_shape)\n",
        "# make a reference to VGG's input layer\n",
        "inp = vgg.input\n",
        "\n",
        "# make a new softmax layer with num_classes neurons\n",
        "new_classification_layer = Dense(units=nClasses, activation='softmax')\n",
        "\n",
        "# connect our new layer to the second to last layer in VGG, and make a reference to it\n",
        "out = new_classification_layer(vgg.layers[-2].output)\n",
        "\n",
        "# create a new network between inp and out\n",
        "model_new = Model(inp, out)\n",
        "model_new.summary()"
      ],
      "execution_count": null,
      "outputs": [
        {
          "output_type": "stream",
          "name": "stdout",
          "text": [
            "INPUT_SHAPE:  (224, 224, 3)\n",
            "Model: \"model\"\n",
            "_________________________________________________________________\n",
            "Layer (type)                 Output Shape              Param #   \n",
            "=================================================================\n",
            "input_1 (InputLayer)         [(None, 224, 224, 3)]     0         \n",
            "_________________________________________________________________\n",
            "block1_conv1 (Conv2D)        (None, 224, 224, 64)      1792      \n",
            "_________________________________________________________________\n",
            "block1_conv2 (Conv2D)        (None, 224, 224, 64)      36928     \n",
            "_________________________________________________________________\n",
            "block1_pool (MaxPooling2D)   (None, 112, 112, 64)      0         \n",
            "_________________________________________________________________\n",
            "block2_conv1 (Conv2D)        (None, 112, 112, 128)     73856     \n",
            "_________________________________________________________________\n",
            "block2_conv2 (Conv2D)        (None, 112, 112, 128)     147584    \n",
            "_________________________________________________________________\n",
            "block2_pool (MaxPooling2D)   (None, 56, 56, 128)       0         \n",
            "_________________________________________________________________\n",
            "block3_conv1 (Conv2D)        (None, 56, 56, 256)       295168    \n",
            "_________________________________________________________________\n",
            "block3_conv2 (Conv2D)        (None, 56, 56, 256)       590080    \n",
            "_________________________________________________________________\n",
            "block3_conv3 (Conv2D)        (None, 56, 56, 256)       590080    \n",
            "_________________________________________________________________\n",
            "block3_pool (MaxPooling2D)   (None, 28, 28, 256)       0         \n",
            "_________________________________________________________________\n",
            "block4_conv1 (Conv2D)        (None, 28, 28, 512)       1180160   \n",
            "_________________________________________________________________\n",
            "block4_conv2 (Conv2D)        (None, 28, 28, 512)       2359808   \n",
            "_________________________________________________________________\n",
            "block4_conv3 (Conv2D)        (None, 28, 28, 512)       2359808   \n",
            "_________________________________________________________________\n",
            "block4_pool (MaxPooling2D)   (None, 14, 14, 512)       0         \n",
            "_________________________________________________________________\n",
            "block5_conv1 (Conv2D)        (None, 14, 14, 512)       2359808   \n",
            "_________________________________________________________________\n",
            "block5_conv2 (Conv2D)        (None, 14, 14, 512)       2359808   \n",
            "_________________________________________________________________\n",
            "block5_conv3 (Conv2D)        (None, 14, 14, 512)       2359808   \n",
            "_________________________________________________________________\n",
            "block5_pool (MaxPooling2D)   (None, 7, 7, 512)         0         \n",
            "_________________________________________________________________\n",
            "flatten (Flatten)            (None, 25088)             0         \n",
            "_________________________________________________________________\n",
            "fc1 (Dense)                  (None, 4096)              102764544 \n",
            "_________________________________________________________________\n",
            "fc2 (Dense)                  (None, 4096)              16781312  \n",
            "_________________________________________________________________\n",
            "dense (Dense)                (None, 8)                 32776     \n",
            "=================================================================\n",
            "Total params: 134,293,320\n",
            "Trainable params: 134,293,320\n",
            "Non-trainable params: 0\n",
            "_________________________________________________________________\n"
          ]
        }
      ]
    },
    {
      "cell_type": "markdown",
      "metadata": {
        "id": "AARj-yI8MTL5"
      },
      "source": [
        "##3.3 Wyłączenie trenowania dla warstw sieci VGG16 wszystkich prócz ostatniej"
      ]
    },
    {
      "cell_type": "code",
      "metadata": {
        "colab": {
          "base_uri": "https://localhost:8080/"
        },
        "id": "xY6qdizhMPZ2",
        "outputId": "a80bd517-2204-4df4-8c19-ff645c07d9ff"
      },
      "source": [
        "from tensorflow.keras.optimizers import Adam\n",
        "\n",
        "# make all layers untrainable by freezing weights (except for last layer)\n",
        "for l, layer in enumerate(model_new.layers[:-1]):\n",
        "    layer.trainable = False\n",
        "\n",
        "# ensure the last layer is trainable/not frozen\n",
        "for l, layer in enumerate(model_new.layers[-1:]):\n",
        "    layer.trainable = True\n",
        "\n",
        "\n",
        "model_new.compile(loss='categorical_crossentropy',\n",
        "              optimizer=Adam(learning_rate=1e-3),\n",
        "              metrics=['accuracy'])\n",
        "\n",
        "model_new.summary()"
      ],
      "execution_count": null,
      "outputs": [
        {
          "output_type": "stream",
          "name": "stdout",
          "text": [
            "Model: \"model\"\n",
            "_________________________________________________________________\n",
            "Layer (type)                 Output Shape              Param #   \n",
            "=================================================================\n",
            "input_1 (InputLayer)         [(None, 224, 224, 3)]     0         \n",
            "_________________________________________________________________\n",
            "block1_conv1 (Conv2D)        (None, 224, 224, 64)      1792      \n",
            "_________________________________________________________________\n",
            "block1_conv2 (Conv2D)        (None, 224, 224, 64)      36928     \n",
            "_________________________________________________________________\n",
            "block1_pool (MaxPooling2D)   (None, 112, 112, 64)      0         \n",
            "_________________________________________________________________\n",
            "block2_conv1 (Conv2D)        (None, 112, 112, 128)     73856     \n",
            "_________________________________________________________________\n",
            "block2_conv2 (Conv2D)        (None, 112, 112, 128)     147584    \n",
            "_________________________________________________________________\n",
            "block2_pool (MaxPooling2D)   (None, 56, 56, 128)       0         \n",
            "_________________________________________________________________\n",
            "block3_conv1 (Conv2D)        (None, 56, 56, 256)       295168    \n",
            "_________________________________________________________________\n",
            "block3_conv2 (Conv2D)        (None, 56, 56, 256)       590080    \n",
            "_________________________________________________________________\n",
            "block3_conv3 (Conv2D)        (None, 56, 56, 256)       590080    \n",
            "_________________________________________________________________\n",
            "block3_pool (MaxPooling2D)   (None, 28, 28, 256)       0         \n",
            "_________________________________________________________________\n",
            "block4_conv1 (Conv2D)        (None, 28, 28, 512)       1180160   \n",
            "_________________________________________________________________\n",
            "block4_conv2 (Conv2D)        (None, 28, 28, 512)       2359808   \n",
            "_________________________________________________________________\n",
            "block4_conv3 (Conv2D)        (None, 28, 28, 512)       2359808   \n",
            "_________________________________________________________________\n",
            "block4_pool (MaxPooling2D)   (None, 14, 14, 512)       0         \n",
            "_________________________________________________________________\n",
            "block5_conv1 (Conv2D)        (None, 14, 14, 512)       2359808   \n",
            "_________________________________________________________________\n",
            "block5_conv2 (Conv2D)        (None, 14, 14, 512)       2359808   \n",
            "_________________________________________________________________\n",
            "block5_conv3 (Conv2D)        (None, 14, 14, 512)       2359808   \n",
            "_________________________________________________________________\n",
            "block5_pool (MaxPooling2D)   (None, 7, 7, 512)         0         \n",
            "_________________________________________________________________\n",
            "flatten (Flatten)            (None, 25088)             0         \n",
            "_________________________________________________________________\n",
            "fc1 (Dense)                  (None, 4096)              102764544 \n",
            "_________________________________________________________________\n",
            "fc2 (Dense)                  (None, 4096)              16781312  \n",
            "_________________________________________________________________\n",
            "dense (Dense)                (None, 8)                 32776     \n",
            "=================================================================\n",
            "Total params: 134,293,320\n",
            "Trainable params: 32,776\n",
            "Non-trainable params: 134,260,544\n",
            "_________________________________________________________________\n"
          ]
        }
      ]
    },
    {
      "cell_type": "markdown",
      "metadata": {
        "id": "BLkt-NFmMwMN"
      },
      "source": [
        "#4 Trenowanie sieci neuronowej"
      ]
    },
    {
      "cell_type": "markdown",
      "metadata": {
        "id": "S13XIy1HM1nd"
      },
      "source": [
        "##4.1 Zdefiniowanie callbacków dla naszej sieci"
      ]
    },
    {
      "cell_type": "code",
      "metadata": {
        "id": "BRelq6hNMpTM"
      },
      "source": [
        "from tensorflow.keras.callbacks import EarlyStopping, ModelCheckpoint, TensorBoard\n",
        "my_callbacks = [\n",
        "    EarlyStopping(monitor='val_loss',min_delta=0.01, patience=5, verbose=1, mode='auto'),\n",
        "    EarlyStopping(monitor='val_accuracy',min_delta=0.01, patience=5, verbose=1 ,mode='auto')\n",
        "]"
      ],
      "execution_count": null,
      "outputs": []
    },
    {
      "cell_type": "markdown",
      "metadata": {
        "id": "bEeF_GFPM_gd"
      },
      "source": [
        "##4.2 Dotrenowywanie naszej sieci VGG16 do naszego problemu"
      ]
    },
    {
      "cell_type": "code",
      "metadata": {
        "colab": {
          "base_uri": "https://localhost:8080/"
        },
        "id": "Zu7ed2tVM6IL",
        "outputId": "0bd9defc-4b60-4459-8445-d01f02b579ac"
      },
      "source": [
        "batch_size = 4\n",
        "epochs = 100_000\n",
        "history = model_new.fit(train_ds,\n",
        "                    batch_size=batch_size,\n",
        "                    epochs=epochs,\n",
        "                    verbose=1,\n",
        "                    validation_data=test_ds,\n",
        "                    callbacks=my_callbacks)"
      ],
      "execution_count": null,
      "outputs": [
        {
          "output_type": "stream",
          "name": "stdout",
          "text": [
            "Epoch 1/100000\n",
            "200/200 [==============================] - 78s 332ms/step - loss: 2.5924 - accuracy: 0.0848 - val_loss: 2.5854 - val_accuracy: 0.1250\n",
            "Epoch 2/100000\n",
            "200/200 [==============================] - 67s 330ms/step - loss: 2.6125 - accuracy: 0.0827 - val_loss: 2.5338 - val_accuracy: 0.1250\n",
            "Epoch 3/100000\n",
            "200/200 [==============================] - 67s 329ms/step - loss: 2.5704 - accuracy: 0.0856 - val_loss: 2.4504 - val_accuracy: 0.1250\n",
            "Epoch 4/100000\n",
            "200/200 [==============================] - 67s 329ms/step - loss: 2.5917 - accuracy: 0.0870 - val_loss: 2.5420 - val_accuracy: 0.1250\n",
            "Epoch 5/100000\n",
            "200/200 [==============================] - 67s 329ms/step - loss: 2.5925 - accuracy: 0.0833 - val_loss: 2.3523 - val_accuracy: 0.1250\n",
            "Epoch 6/100000\n",
            "200/200 [==============================] - 67s 328ms/step - loss: 2.5743 - accuracy: 0.0872 - val_loss: 2.3894 - val_accuracy: 0.1250\n",
            "Epoch 00006: early stopping\n"
          ]
        }
      ]
    },
    {
      "cell_type": "markdown",
      "metadata": {
        "id": "QfGOsg49RWs0"
      },
      "source": [
        "#5. Przegląd wyników uczenia się naszej sieci"
      ]
    },
    {
      "cell_type": "markdown",
      "metadata": {
        "id": "U3xYK4KJRfQU"
      },
      "source": [
        "##5.1 Zdefiniowanie funkcji do rysowania wykresów dla funckji straty i funckji dokładności"
      ]
    },
    {
      "cell_type": "code",
      "metadata": {
        "id": "sazg34nrNS4k"
      },
      "source": [
        "def make_accuracy_plot(history):\n",
        "  \n",
        "    #   Funckja zwraca wykres dokładności (accuracy) modelu na zbiorze treningowym i walidacyjnym.\n",
        "    \n",
        "\n",
        "    import matplotlib.pyplot as plt\n",
        "    import seaborn as sns\n",
        "    sns.set()\n",
        "    acc, val_acc = history.history['accuracy'], history.history['val_accuracy']\n",
        "    epochs = range(1, len(acc)+1)\n",
        "\n",
        "    plt.figure(figsize=(10,8))\n",
        "    plt.plot(epochs, acc, label='Dokladność trenowania', marker='o')\n",
        "    plt.plot(epochs, val_acc, label='Dokladność walidacji', marker='o')\n",
        "    plt.legend()\n",
        "    plt.title('Dokładność trenowania i walidacji')\n",
        "    plt.xlabel('Epoki')\n",
        "    plt.ylabel('Dokładność')\n",
        "    plt.show()\n",
        "\n",
        "def make_loss_plot(history):\n",
        "\n",
        "    #   Funkjca zwraca wykres straty (loss) modelu na zbiorze treningowym\n",
        "    #   i walidacyjnym\n",
        "\n",
        "\n",
        "    import matplotlib.pyplot as plt\n",
        "    import seaborn as sns\n",
        "    sns.set()\n",
        "    loss, val_loss = history.history['loss'], history.history['val_loss']\n",
        "    epochs = range(1, len(loss)+ 1)\n",
        "\n",
        "    plt.figure(figsize = (10,8))\n",
        "    plt.plot(epochs, loss, label='Strata trenowania', marker='o')\n",
        "    plt.plot(epochs, val_loss, label=\"Strata walidacji\", marker='o')\n",
        "    plt.legend()\n",
        "    plt.title('Strata trenowania i walidacji')\n",
        "    plt.xlabel('Epoki')\n",
        "    plt.ylabel('Strata')\n",
        "    plt.show()"
      ],
      "execution_count": null,
      "outputs": []
    },
    {
      "cell_type": "markdown",
      "metadata": {
        "id": "6I4j_BV6RooL"
      },
      "source": [
        "## 5.2 Wykres dokładności trenowanie i walidacji"
      ]
    },
    {
      "cell_type": "code",
      "metadata": {
        "colab": {
          "base_uri": "https://localhost:8080/",
          "height": 518
        },
        "id": "1EGQUs1nRvLS",
        "outputId": "c42715fd-737b-4d23-8cbc-e8c11806b490"
      },
      "source": [
        "make_accuracy_plot(history)"
      ],
      "execution_count": null,
      "outputs": [
        {
          "output_type": "display_data",
          "data": {
            "image/png": "[encoded data removed]",
            "text/plain": [
              "<Figure size 720x576 with 1 Axes>"
            ]
          },
          "metadata": {}
        }
      ]
    },
    {
      "cell_type": "markdown",
      "metadata": {
        "id": "-Gm_CUCGRyjp"
      },
      "source": [
        "##5.3 Wykres straty trenowania i walidacji"
      ]
    },
    {
      "cell_type": "code",
      "metadata": {
        "colab": {
          "base_uri": "https://localhost:8080/",
          "height": 518
        },
        "id": "0ZSf8btmRzcG",
        "outputId": "09c18ba8-778d-4955-ed8c-0bfd5eaaa9f6"
      },
      "source": [
        "make_loss_plot(history)"
      ],
      "execution_count": null,
      "outputs": [
        {
          "output_type": "display_data",
          "data": {
            "image/png": "[encoded data removed]",
            "text/plain": [
              "<Figure size 720x576 with 1 Axes>"
            ]
          },
          "metadata": {}
        }
      ]
    },
    {
      "cell_type": "code",
      "metadata": {
        "id": "FpjVCbhVSMnN"
      },
      "source": [
        ""
      ],
      "execution_count": null,
      "outputs": []
    }
  ]
}